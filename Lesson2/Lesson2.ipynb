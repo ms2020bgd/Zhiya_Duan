{
 "cells": [
  {
   "cell_type": "markdown",
   "metadata": {},
   "source": [
    "#### Lesson2\n",
    "\n",
    "> Une théorie veut que n'importe quel article sur Wikipedia pointe au final sur la philosophie. Pour la vérifier, il suffit de cliquer sur le premier lien d'un article Wikipedia qui mène à un autre article et ainsi de suite : à force, on tombe immanquablement sur l'article dédié à la philosophie."
   ]
  },
  {
   "cell_type": "code",
   "execution_count": 1,
   "metadata": {},
   "outputs": [],
   "source": [
    "from bs4 import BeautifulSoup\n",
    "import requests\n",
    "\n",
    "prefix = 'https://en.wikipedia.org'\n",
    "\n",
    "def get_soup(url):\n",
    "    return BeautifulSoup(requests.get(url).text, 'html.parser')\n",
    "\n",
    "def find_links(soup, el):\n",
    "    return soup.find(id = \"mw-content-text\").select('p a')[el].attrs.get('href')\n",
    "\n",
    "def wiki_game(url):\n",
    "    counts = 0\n",
    "    find = set()\n",
    "    while counts < 30 and not url.endswith('/wiki/Language'):\n",
    "        soup = get_soup(url)\n",
    "        el = 0\n",
    "        link = find_links(soup, el)\n",
    "        while (link in find) | (not link.startswith('/wiki/')) |(':' in link) :\n",
    "            el +=1\n",
    "            link = find_links(soup, el)\n",
    "        url = prefix + link\n",
    "        print(\"url: \" + str(url))\n",
    "        counts+=1\n",
    "        find.add(link)\n",
    "    return counts\n",
    "    "
   ]
  },
  {
   "cell_type": "code",
   "execution_count": 2,
   "metadata": {},
   "outputs": [
    {
     "name": "stdout",
     "output_type": "stream",
     "text": [
      "url: https://en.wikipedia.org/wiki/Capital_city\n",
      "url: https://en.wikipedia.org/wiki/Municipality\n",
      "url: https://en.wikipedia.org/wiki/Administrative_division\n",
      "url: https://en.wikipedia.org/wiki/Country\n",
      "url: https://en.wikipedia.org/wiki/Political_geography\n",
      "url: https://en.wikipedia.org/wiki/Politics\n",
      "url: https://en.wikipedia.org/wiki/Governance\n",
      "url: https://en.wikipedia.org/wiki/Government\n",
      "url: https://en.wikipedia.org/wiki/State_(polity)\n",
      "url: https://en.wikipedia.org/wiki/Polity\n",
      "url: https://en.wikipedia.org/wiki/Identity_(social_science)\n",
      "url: https://en.wikipedia.org/wiki/Self-identity\n",
      "url: https://en.wikipedia.org/wiki/Belief\n",
      "url: https://en.wikipedia.org/wiki/Attitude_(psychology)\n",
      "url: https://en.wikipedia.org/wiki/Psychology\n",
      "url: https://en.wikipedia.org/wiki/Mind\n",
      "url: https://en.wikipedia.org/wiki/Cognition\n",
      "url: https://en.wikipedia.org/wiki/Intellectual_function\n",
      "url: https://en.wikipedia.org/wiki/Reasoning\n",
      "url: https://en.wikipedia.org/wiki/Consciousness\n",
      "url: https://en.wikipedia.org/wiki/Sentience\n",
      "url: https://en.wikipedia.org/wiki/Feeling\n",
      "url: https://en.wikipedia.org/wiki/Nominalization\n",
      "url: https://en.wikipedia.org/wiki/Linguistics\n",
      "url: https://en.wikipedia.org/wiki/Science\n",
      "url: https://en.wikipedia.org/wiki/Latin\n",
      "url: https://en.wikipedia.org/wiki/Classical_language\n",
      "url: https://en.wikipedia.org/wiki/Language\n"
     ]
    },
    {
     "data": {
      "text/plain": [
       "28"
      ]
     },
     "execution_count": 2,
     "metadata": {},
     "output_type": "execute_result"
    }
   ],
   "source": [
    "start = 'Paris'\n",
    "url = prefix + '/wiki/'+ start\n",
    "wiki_game(url)"
   ]
  },
  {
   "cell_type": "code",
   "execution_count": null,
   "metadata": {},
   "outputs": [],
   "source": []
  }
 ],
 "metadata": {
  "kernelspec": {
   "display_name": "Python 3",
   "language": "python",
   "name": "python3"
  },
  "language_info": {
   "codemirror_mode": {
    "name": "ipython",
    "version": 3
   },
   "file_extension": ".py",
   "mimetype": "text/x-python",
   "name": "python",
   "nbconvert_exporter": "python",
   "pygments_lexer": "ipython3",
   "version": "3.7.3"
  }
 },
 "nbformat": 4,
 "nbformat_minor": 4
}

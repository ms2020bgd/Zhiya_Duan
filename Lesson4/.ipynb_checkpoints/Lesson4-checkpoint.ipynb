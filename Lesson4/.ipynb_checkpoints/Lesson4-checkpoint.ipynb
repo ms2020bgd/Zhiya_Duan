{
 "cells": [
  {
   "cell_type": "markdown",
   "metadata": {},
   "source": [
    "## DM lesson4\n",
    "\n",
    "Dans ce dataset: https://raw.githubusercontent.com/fspot/INFMDI-721/master/lesson5/products.csv, chaque ligne correspond à un produit alimentaire mis en vente par un utilisateur.\n",
    "\n",
    "Objectif: cleaner le dataset.\n",
    "\n",
    "- On aimerait avoir une colonne de prix unifiés en euros. Problème: la currency n'est pas indiquée pour tous les produits: il va falloir essayer de \"deviner\" les currency manquantes, en se basant sur l'adresse IP de l'utilisateur.\n",
    "- La colonne \"infos\" liste des ingrédients présents dans le produit. On préfèrerait avoir une colonne de type bool par ingrédient, indiquant si le produit contient ou non cet ingrédient.\n",
    "\n",
    "Voici une liste d'APIs qui peut vous être utile : https://github.com/public-apis/public-apis (mais vous pouvez en utiliser d'autres si vous le voulez)."
   ]
  },
  {
   "cell_type": "code",
   "execution_count": 1,
   "metadata": {
    "ExecuteTime": {
     "end_time": "2019-10-27T17:58:48.897020Z",
     "start_time": "2019-10-27T17:58:48.402071Z"
    }
   },
   "outputs": [],
   "source": [
    "import pandas as pd\n",
    "import requests\n",
    "import numpy as np"
   ]
  },
  {
   "cell_type": "markdown",
   "metadata": {},
   "source": [
    " # 1. Converts the currency according to IP address"
   ]
  },
  {
   "cell_type": "markdown",
   "metadata": {},
   "source": [
    "- Convertion approach :\n",
    "ip_address -> country_code -> restcoutries_data -> currency_code -> rate -> price to euro "
   ]
  },
  {
   "cell_type": "code",
   "execution_count": 2,
   "metadata": {
    "ExecuteTime": {
     "end_time": "2019-10-27T17:58:48.915928Z",
     "start_time": "2019-10-27T17:58:48.898898Z"
    }
   },
   "outputs": [
    {
     "data": {
      "text/html": [
       "<div>\n",
       "<style scoped>\n",
       "    .dataframe tbody tr th:only-of-type {\n",
       "        vertical-align: middle;\n",
       "    }\n",
       "\n",
       "    .dataframe tbody tr th {\n",
       "        vertical-align: top;\n",
       "    }\n",
       "\n",
       "    .dataframe thead th {\n",
       "        text-align: right;\n",
       "    }\n",
       "</style>\n",
       "<table border=\"1\" class=\"dataframe\">\n",
       "  <thead>\n",
       "    <tr style=\"text-align: right;\">\n",
       "      <th></th>\n",
       "      <th>username</th>\n",
       "      <th>ip_address</th>\n",
       "      <th>product</th>\n",
       "      <th>price</th>\n",
       "      <th>infos</th>\n",
       "    </tr>\n",
       "  </thead>\n",
       "  <tbody>\n",
       "    <tr>\n",
       "      <td>0</td>\n",
       "      <td>ldrover0</td>\n",
       "      <td>666.666.666.666</td>\n",
       "      <td>Clam - Cherrystone</td>\n",
       "      <td>712.8</td>\n",
       "      <td>May contain sugar</td>\n",
       "    </tr>\n",
       "    <tr>\n",
       "      <td>1</td>\n",
       "      <td>kizakov1</td>\n",
       "      <td>nope</td>\n",
       "      <td>Soup - Campbells Bean Medley</td>\n",
       "      <td>379.26</td>\n",
       "      <td>Contains peanut and fish</td>\n",
       "    </tr>\n",
       "    <tr>\n",
       "      <td>2</td>\n",
       "      <td>abromet2</td>\n",
       "      <td>240.177.79.234</td>\n",
       "      <td>Island Oasis - Lemonade</td>\n",
       "      <td>305.96</td>\n",
       "      <td>Ingredients: mustard and fish</td>\n",
       "    </tr>\n",
       "    <tr>\n",
       "      <td>3</td>\n",
       "      <td>kkarolowski3</td>\n",
       "      <td>26.191.237.49</td>\n",
       "      <td>Water - Mineral, Natural</td>\n",
       "      <td>350.15</td>\n",
       "      <td>Contains gluten</td>\n",
       "    </tr>\n",
       "    <tr>\n",
       "      <td>4</td>\n",
       "      <td>mbuckney4</td>\n",
       "      <td>58.90.204.239</td>\n",
       "      <td>Radish - Pickled</td>\n",
       "      <td>949.79</td>\n",
       "      <td>May contain sugar, egg and fish</td>\n",
       "    </tr>\n",
       "  </tbody>\n",
       "</table>\n",
       "</div>"
      ],
      "text/plain": [
       "       username       ip_address                       product   price  \\\n",
       "0      ldrover0  666.666.666.666            Clam - Cherrystone   712.8   \n",
       "1      kizakov1             nope  Soup - Campbells Bean Medley  379.26   \n",
       "2      abromet2   240.177.79.234       Island Oasis - Lemonade  305.96   \n",
       "3  kkarolowski3    26.191.237.49      Water - Mineral, Natural  350.15   \n",
       "4     mbuckney4    58.90.204.239              Radish - Pickled  949.79   \n",
       "\n",
       "                             infos  \n",
       "0                May contain sugar  \n",
       "1         Contains peanut and fish  \n",
       "2    Ingredients: mustard and fish  \n",
       "3                  Contains gluten  \n",
       "4  May contain sugar, egg and fish  "
      ]
     },
     "execution_count": 2,
     "metadata": {},
     "output_type": "execute_result"
    }
   ],
   "source": [
    "# Load data\n",
    "filename = \"products.csv\"\n",
    "df = pd.read_csv(filename, sep=\";\")\n",
    "df.head()"
   ]
  },
  {
   "cell_type": "markdown",
   "metadata": {},
   "source": [
    "- ip_adrress to country_code"
   ]
  },
  {
   "cell_type": "code",
   "execution_count": 3,
   "metadata": {
    "ExecuteTime": {
     "end_time": "2019-10-27T17:58:48.920712Z",
     "start_time": "2019-10-27T17:58:48.917998Z"
    }
   },
   "outputs": [],
   "source": [
    "# Use IPSTACK API\n",
    "def find_country(IP):\n",
    "    # Free API KEY from IPSTACK\n",
    "    API_KEY = 'cb40520bb1a340f241911bfb00ecacb0'\n",
    "    url = f'http://api.ipstack.com/{IP}?access_key={API_KEY}'\n",
    "    # Request the url to get result\n",
    "    data = requests.get(url).json()\n",
    "    return data['country_code']"
   ]
  },
  {
   "cell_type": "code",
   "execution_count": 4,
   "metadata": {
    "ExecuteTime": {
     "end_time": "2019-10-27T18:00:05.597681Z",
     "start_time": "2019-10-27T17:58:48.922961Z"
    }
   },
   "outputs": [
    {
     "name": "stderr",
     "output_type": "stream",
     "text": [
      "/Users/zduan/anaconda3/lib/python3.7/site-packages/pandas/core/strings.py:1843: UserWarning: This pattern has match groups. To actually get the groups, use str.extract.\n",
      "  return func(self, *args, **kwargs)\n"
     ]
    }
   ],
   "source": [
    "# regex gets a series of boolean values\n",
    "ip_ok = df.ip_address.str.contains(\n",
    "    '^(([0-9]|[1-9][0-9]|1[0-9]{2}|2[0-4][0-9]|25[0-5])\\.){3}([0-9]|[1-9][0-9]|1[0-9]{2}|2[0-4][0-9]|25[0-5])$')\n",
    "\n",
    "# use boolean values above to filter ip_address with correct formats\n",
    "# for wrong formats, filled with null values \n",
    "country_code = [find_country(ip) for ip in df[ip_ok].ip_address]\n",
    "\n",
    "# add new column 'country_code'\n",
    "df.loc[ip_ok, 'country_code'] = country_code"
   ]
  },
  {
   "cell_type": "code",
   "execution_count": 5,
   "metadata": {
    "ExecuteTime": {
     "end_time": "2019-10-27T18:00:05.626928Z",
     "start_time": "2019-10-27T18:00:05.600040Z"
    }
   },
   "outputs": [
    {
     "data": {
      "text/html": [
       "<div>\n",
       "<style scoped>\n",
       "    .dataframe tbody tr th:only-of-type {\n",
       "        vertical-align: middle;\n",
       "    }\n",
       "\n",
       "    .dataframe tbody tr th {\n",
       "        vertical-align: top;\n",
       "    }\n",
       "\n",
       "    .dataframe thead th {\n",
       "        text-align: right;\n",
       "    }\n",
       "</style>\n",
       "<table border=\"1\" class=\"dataframe\">\n",
       "  <thead>\n",
       "    <tr style=\"text-align: right;\">\n",
       "      <th></th>\n",
       "      <th>username</th>\n",
       "      <th>ip_address</th>\n",
       "      <th>product</th>\n",
       "      <th>price</th>\n",
       "      <th>infos</th>\n",
       "      <th>country_code</th>\n",
       "    </tr>\n",
       "  </thead>\n",
       "  <tbody>\n",
       "    <tr>\n",
       "      <td>0</td>\n",
       "      <td>False</td>\n",
       "      <td>False</td>\n",
       "      <td>False</td>\n",
       "      <td>False</td>\n",
       "      <td>False</td>\n",
       "      <td>True</td>\n",
       "    </tr>\n",
       "    <tr>\n",
       "      <td>1</td>\n",
       "      <td>False</td>\n",
       "      <td>False</td>\n",
       "      <td>False</td>\n",
       "      <td>False</td>\n",
       "      <td>False</td>\n",
       "      <td>True</td>\n",
       "    </tr>\n",
       "    <tr>\n",
       "      <td>2</td>\n",
       "      <td>False</td>\n",
       "      <td>False</td>\n",
       "      <td>False</td>\n",
       "      <td>False</td>\n",
       "      <td>False</td>\n",
       "      <td>True</td>\n",
       "    </tr>\n",
       "    <tr>\n",
       "      <td>3</td>\n",
       "      <td>False</td>\n",
       "      <td>False</td>\n",
       "      <td>False</td>\n",
       "      <td>False</td>\n",
       "      <td>False</td>\n",
       "      <td>True</td>\n",
       "    </tr>\n",
       "    <tr>\n",
       "      <td>4</td>\n",
       "      <td>False</td>\n",
       "      <td>False</td>\n",
       "      <td>False</td>\n",
       "      <td>False</td>\n",
       "      <td>False</td>\n",
       "      <td>False</td>\n",
       "    </tr>\n",
       "    <tr>\n",
       "      <td>...</td>\n",
       "      <td>...</td>\n",
       "      <td>...</td>\n",
       "      <td>...</td>\n",
       "      <td>...</td>\n",
       "      <td>...</td>\n",
       "      <td>...</td>\n",
       "    </tr>\n",
       "    <tr>\n",
       "      <td>195</td>\n",
       "      <td>False</td>\n",
       "      <td>False</td>\n",
       "      <td>False</td>\n",
       "      <td>False</td>\n",
       "      <td>False</td>\n",
       "      <td>False</td>\n",
       "    </tr>\n",
       "    <tr>\n",
       "      <td>196</td>\n",
       "      <td>False</td>\n",
       "      <td>False</td>\n",
       "      <td>False</td>\n",
       "      <td>False</td>\n",
       "      <td>False</td>\n",
       "      <td>True</td>\n",
       "    </tr>\n",
       "    <tr>\n",
       "      <td>197</td>\n",
       "      <td>False</td>\n",
       "      <td>False</td>\n",
       "      <td>False</td>\n",
       "      <td>False</td>\n",
       "      <td>False</td>\n",
       "      <td>False</td>\n",
       "    </tr>\n",
       "    <tr>\n",
       "      <td>198</td>\n",
       "      <td>False</td>\n",
       "      <td>False</td>\n",
       "      <td>False</td>\n",
       "      <td>False</td>\n",
       "      <td>False</td>\n",
       "      <td>False</td>\n",
       "    </tr>\n",
       "    <tr>\n",
       "      <td>199</td>\n",
       "      <td>False</td>\n",
       "      <td>False</td>\n",
       "      <td>False</td>\n",
       "      <td>False</td>\n",
       "      <td>False</td>\n",
       "      <td>True</td>\n",
       "    </tr>\n",
       "  </tbody>\n",
       "</table>\n",
       "<p>200 rows × 6 columns</p>\n",
       "</div>"
      ],
      "text/plain": [
       "     username  ip_address  product  price  infos  country_code\n",
       "0       False       False    False  False  False          True\n",
       "1       False       False    False  False  False          True\n",
       "2       False       False    False  False  False          True\n",
       "3       False       False    False  False  False          True\n",
       "4       False       False    False  False  False         False\n",
       "..        ...         ...      ...    ...    ...           ...\n",
       "195     False       False    False  False  False         False\n",
       "196     False       False    False  False  False          True\n",
       "197     False       False    False  False  False         False\n",
       "198     False       False    False  False  False         False\n",
       "199     False       False    False  False  False          True\n",
       "\n",
       "[200 rows x 6 columns]"
      ]
     },
     "execution_count": 5,
     "metadata": {},
     "output_type": "execute_result"
    }
   ],
   "source": [
    "# check if elements in df are real, return boolean\n",
    "df.applymap(np.isreal)"
   ]
  },
  {
   "cell_type": "markdown",
   "metadata": {},
   "source": [
    "- Convert price to euros according to country codes "
   ]
  },
  {
   "cell_type": "code",
   "execution_count": 6,
   "metadata": {
    "ExecuteTime": {
     "end_time": "2019-10-27T18:00:05.957438Z",
     "start_time": "2019-10-27T18:00:05.628693Z"
    }
   },
   "outputs": [
    {
     "name": "stdout",
     "output_type": "stream",
     "text": [
      "{'CAD': 1.4511, 'HKD': 8.7048, 'ISK': 138.3, 'PHP': 56.951, 'DKK': 7.4704, 'HUF': 328.87, 'CZK': 25.568, 'AUD': 1.627, 'RON': 4.7553, 'SEK': 10.7445, 'IDR': 15588.67, 'INR': 78.7515, 'BRL': 4.4732, 'RUB': 70.824, 'HRK': 7.453, 'JPY': 120.59, 'THB': 33.504, 'CHF': 1.1019, 'SGD': 1.514, 'PLN': 4.2777, 'BGN': 1.9558, 'TRY': 6.4012, 'CNY': 7.8524, 'NOK': 10.1865, 'NZD': 1.7456, 'ZAR': 16.2387, 'USD': 1.1107, 'MXN': 21.202, 'ILS': 3.9242, 'GBP': 0.86598, 'KRW': 1304.87, 'MYR': 4.6494}\n"
     ]
    }
   ],
   "source": [
    "# get the rates of foreign currency (1 euro = rate foreign currency)\n",
    "rates = requests.get('https://api.exchangeratesapi.io/latest').json()['rates']\n",
    "print(rates)"
   ]
  },
  {
   "cell_type": "code",
   "execution_count": 7,
   "metadata": {
    "ExecuteTime": {
     "end_time": "2019-10-27T18:00:06.467481Z",
     "start_time": "2019-10-27T18:00:05.959567Z"
    }
   },
   "outputs": [
    {
     "data": {
      "text/plain": [
       "{'name': 'Afghanistan',\n",
       " 'topLevelDomain': ['.af'],\n",
       " 'alpha2Code': 'AF',\n",
       " 'alpha3Code': 'AFG',\n",
       " 'callingCodes': ['93'],\n",
       " 'capital': 'Kabul',\n",
       " 'altSpellings': ['AF', 'Afġānistān'],\n",
       " 'region': 'Asia',\n",
       " 'subregion': 'Southern Asia',\n",
       " 'population': 27657145,\n",
       " 'latlng': [33.0, 65.0],\n",
       " 'demonym': 'Afghan',\n",
       " 'area': 652230.0,\n",
       " 'gini': 27.8,\n",
       " 'timezones': ['UTC+04:30'],\n",
       " 'borders': ['IRN', 'PAK', 'TKM', 'UZB', 'TJK', 'CHN'],\n",
       " 'nativeName': 'افغانستان',\n",
       " 'numericCode': '004',\n",
       " 'currencies': [{'code': 'AFN', 'name': 'Afghan afghani', 'symbol': '؋'}],\n",
       " 'languages': [{'iso639_1': 'ps',\n",
       "   'iso639_2': 'pus',\n",
       "   'name': 'Pashto',\n",
       "   'nativeName': 'پښتو'},\n",
       "  {'iso639_1': 'uz',\n",
       "   'iso639_2': 'uzb',\n",
       "   'name': 'Uzbek',\n",
       "   'nativeName': 'Oʻzbek'},\n",
       "  {'iso639_1': 'tk',\n",
       "   'iso639_2': 'tuk',\n",
       "   'name': 'Turkmen',\n",
       "   'nativeName': 'Türkmen'}],\n",
       " 'translations': {'de': 'Afghanistan',\n",
       "  'es': 'Afganistán',\n",
       "  'fr': 'Afghanistan',\n",
       "  'ja': 'アフガニスタン',\n",
       "  'it': 'Afghanistan',\n",
       "  'br': 'Afeganistão',\n",
       "  'pt': 'Afeganistão',\n",
       "  'nl': 'Afghanistan',\n",
       "  'hr': 'Afganistan',\n",
       "  'fa': 'افغانستان'},\n",
       " 'flag': 'https://restcountries.eu/data/afg.svg',\n",
       " 'regionalBlocs': [{'acronym': 'SAARC',\n",
       "   'name': 'South Asian Association for Regional Cooperation',\n",
       "   'otherAcronyms': [],\n",
       "   'otherNames': []}],\n",
       " 'cioc': 'AFG'}"
      ]
     },
     "execution_count": 7,
     "metadata": {},
     "output_type": "execute_result"
    }
   ],
   "source": [
    "# get the country information \n",
    "restcountries_data = requests.get('https://restcountries.eu/rest/v2/all').json()\n",
    "restcountries_data[0]"
   ]
  },
  {
   "cell_type": "code",
   "execution_count": 8,
   "metadata": {
    "ExecuteTime": {
     "end_time": "2019-10-27T18:00:06.473841Z",
     "start_time": "2019-10-27T18:00:06.470962Z"
    }
   },
   "outputs": [],
   "source": [
    "# map for country_code to currency code \n",
    "countrycode_to_currency = {\n",
    "    country['alpha2Code']: country['currencies'][0]['code'] for country in restcountries_data}"
   ]
  },
  {
   "cell_type": "code",
   "execution_count": 9,
   "metadata": {
    "ExecuteTime": {
     "end_time": "2019-10-27T18:00:06.494722Z",
     "start_time": "2019-10-27T18:00:06.476515Z"
    }
   },
   "outputs": [],
   "source": [
    "# clean and convert <price> column from string to float \n",
    "splitted = df['price'].str.split(' ')\n",
    "# take the first element in splitted string list and convert it to float type \n",
    "price = splitted.str[0].astype(float)\n",
    "# take the second to be the currency\n",
    "currency = splitted.str[1]\n",
    "\n",
    "df['price'] = price\n",
    "df['currency'] = currency\n",
    "\n",
    "# dict-like dataframe.replace with 'inplace = False (default)'  <=> apply filter function\n",
    "df['currency_guessed'] = df['country_code'].replace(countrycode_to_currency)"
   ]
  },
  {
   "cell_type": "code",
   "execution_count": 10,
   "metadata": {
    "ExecuteTime": {
     "end_time": "2019-10-27T18:00:06.506453Z",
     "start_time": "2019-10-27T18:00:06.496314Z"
    }
   },
   "outputs": [],
   "source": [
    "# fill the null values of first dataframe with the second dataframe, if not null then keep the origin\n",
    "df['currency'] = df['currency'].combine_first(df['currency_guessed'])\n",
    "\n",
    "# keep only the rows where we have a crrency:\n",
    "df = df[df.currency.notna()].reset_index()"
   ]
  },
  {
   "cell_type": "code",
   "execution_count": 11,
   "metadata": {
    "ExecuteTime": {
     "end_time": "2019-10-27T18:00:06.512936Z",
     "start_time": "2019-10-27T18:00:06.507972Z"
    }
   },
   "outputs": [],
   "source": [
    "# calculate the price in euro\n",
    "df['price_euro_precise'] = df.price / df.currency.map(rates)\n",
    "df['price_euro'] = df['price_euro_precise'].round(1)"
   ]
  },
  {
   "cell_type": "code",
   "execution_count": 12,
   "metadata": {
    "ExecuteTime": {
     "end_time": "2019-10-27T18:00:06.526918Z",
     "start_time": "2019-10-27T18:00:06.514515Z"
    }
   },
   "outputs": [
    {
     "data": {
      "text/html": [
       "<div>\n",
       "<style scoped>\n",
       "    .dataframe tbody tr th:only-of-type {\n",
       "        vertical-align: middle;\n",
       "    }\n",
       "\n",
       "    .dataframe tbody tr th {\n",
       "        vertical-align: top;\n",
       "    }\n",
       "\n",
       "    .dataframe thead th {\n",
       "        text-align: right;\n",
       "    }\n",
       "</style>\n",
       "<table border=\"1\" class=\"dataframe\">\n",
       "  <thead>\n",
       "    <tr style=\"text-align: right;\">\n",
       "      <th></th>\n",
       "      <th>index</th>\n",
       "      <th>username</th>\n",
       "      <th>ip_address</th>\n",
       "      <th>product</th>\n",
       "      <th>price</th>\n",
       "      <th>infos</th>\n",
       "      <th>country_code</th>\n",
       "      <th>currency</th>\n",
       "      <th>currency_guessed</th>\n",
       "      <th>price_euro_precise</th>\n",
       "      <th>price_euro</th>\n",
       "    </tr>\n",
       "  </thead>\n",
       "  <tbody>\n",
       "    <tr>\n",
       "      <td>0</td>\n",
       "      <td>4</td>\n",
       "      <td>mbuckney4</td>\n",
       "      <td>58.90.204.239</td>\n",
       "      <td>Radish - Pickled</td>\n",
       "      <td>949.79</td>\n",
       "      <td>May contain sugar, egg and fish</td>\n",
       "      <td>JP</td>\n",
       "      <td>JPY</td>\n",
       "      <td>JPY</td>\n",
       "      <td>7.876192</td>\n",
       "      <td>7.9</td>\n",
       "    </tr>\n",
       "    <tr>\n",
       "      <td>1</td>\n",
       "      <td>5</td>\n",
       "      <td>bsnozzwell5</td>\n",
       "      <td>226.52.32.70</td>\n",
       "      <td>Oil - Sesame</td>\n",
       "      <td>354.33</td>\n",
       "      <td>Ingredients: sugar and milk</td>\n",
       "      <td>None</td>\n",
       "      <td>MGA</td>\n",
       "      <td>None</td>\n",
       "      <td>NaN</td>\n",
       "      <td>NaN</td>\n",
       "    </tr>\n",
       "    <tr>\n",
       "      <td>2</td>\n",
       "      <td>7</td>\n",
       "      <td>avowdon7</td>\n",
       "      <td>189.169.17.54</td>\n",
       "      <td>Dc Hikiage Hira Huba</td>\n",
       "      <td>111.56</td>\n",
       "      <td>Contains sugar</td>\n",
       "      <td>MX</td>\n",
       "      <td>MXN</td>\n",
       "      <td>MXN</td>\n",
       "      <td>5.261768</td>\n",
       "      <td>5.3</td>\n",
       "    </tr>\n",
       "    <tr>\n",
       "      <td>3</td>\n",
       "      <td>8</td>\n",
       "      <td>epridham8</td>\n",
       "      <td>187.129.113.105</td>\n",
       "      <td>Dried Figs</td>\n",
       "      <td>88.05</td>\n",
       "      <td>Ingredients: sugar, milk and fish</td>\n",
       "      <td>MX</td>\n",
       "      <td>MXN</td>\n",
       "      <td>MXN</td>\n",
       "      <td>4.152910</td>\n",
       "      <td>4.2</td>\n",
       "    </tr>\n",
       "    <tr>\n",
       "      <td>4</td>\n",
       "      <td>10</td>\n",
       "      <td>cjagielaa</td>\n",
       "      <td>75.254.207.163</td>\n",
       "      <td>Cinnamon Rolls</td>\n",
       "      <td>966.34</td>\n",
       "      <td>Contains peanut, sugar, egg and fish</td>\n",
       "      <td>US</td>\n",
       "      <td>USD</td>\n",
       "      <td>USD</td>\n",
       "      <td>870.027910</td>\n",
       "      <td>870.0</td>\n",
       "    </tr>\n",
       "  </tbody>\n",
       "</table>\n",
       "</div>"
      ],
      "text/plain": [
       "   index     username       ip_address               product   price  \\\n",
       "0      4    mbuckney4    58.90.204.239      Radish - Pickled  949.79   \n",
       "1      5  bsnozzwell5     226.52.32.70          Oil - Sesame  354.33   \n",
       "2      7     avowdon7    189.169.17.54  Dc Hikiage Hira Huba  111.56   \n",
       "3      8    epridham8  187.129.113.105            Dried Figs   88.05   \n",
       "4     10    cjagielaa   75.254.207.163        Cinnamon Rolls  966.34   \n",
       "\n",
       "                                  infos country_code currency  \\\n",
       "0       May contain sugar, egg and fish           JP      JPY   \n",
       "1           Ingredients: sugar and milk         None      MGA   \n",
       "2                        Contains sugar           MX      MXN   \n",
       "3     Ingredients: sugar, milk and fish           MX      MXN   \n",
       "4  Contains peanut, sugar, egg and fish           US      USD   \n",
       "\n",
       "  currency_guessed  price_euro_precise  price_euro  \n",
       "0              JPY            7.876192         7.9  \n",
       "1             None                 NaN         NaN  \n",
       "2              MXN            5.261768         5.3  \n",
       "3              MXN            4.152910         4.2  \n",
       "4              USD          870.027910       870.0  "
      ]
     },
     "execution_count": 12,
     "metadata": {},
     "output_type": "execute_result"
    }
   ],
   "source": [
    "df.head()"
   ]
  },
  {
   "cell_type": "markdown",
   "metadata": {},
   "source": [
    "## 2. Split the infos column to ingredients columns and fill the boolean values to check if the ingredient exist in the product."
   ]
  },
  {
   "cell_type": "code",
   "execution_count": 13,
   "metadata": {
    "ExecuteTime": {
     "end_time": "2019-10-27T18:00:06.533049Z",
     "start_time": "2019-10-27T18:00:06.528466Z"
    }
   },
   "outputs": [
    {
     "data": {
      "text/plain": [
       "0                May contain sugar, egg and fish\n",
       "1                    Ingredients: sugar and milk\n",
       "2                                 Contains sugar\n",
       "3              Ingredients: sugar, milk and fish\n",
       "4           Contains peanut, sugar, egg and fish\n",
       "5           Ingredients: mustard, sugar and milk\n",
       "6                  Ingredients: gluten and sugar\n",
       "7                             May contain peanut\n",
       "8      Ingredients: gluten, soja, sugar and milk\n",
       "9      Ingredients: gluten, soja, sugar and milk\n",
       "10                   Ingredients: soja and sugar\n",
       "11                Contains peanut, sugar and egg\n",
       "12                       Contains sugar and milk\n",
       "13    Contains gluten, soja, sugar, egg and fish\n",
       "14                   Ingredients: soja and sugar\n",
       "15           Ingredients: peanut, soja and sugar\n",
       "16                            Ingredients: sugar\n",
       "17                 Contains sugar, milk and fish\n",
       "18                    May contain sugar and milk\n",
       "19                     Ingredients: egg and fish\n",
       "Name: infos, dtype: object"
      ]
     },
     "execution_count": 13,
     "metadata": {},
     "output_type": "execute_result"
    }
   ],
   "source": [
    "df.head(20).infos"
   ]
  },
  {
   "cell_type": "code",
   "execution_count": 14,
   "metadata": {
    "ExecuteTime": {
     "end_time": "2019-10-27T18:00:06.543238Z",
     "start_time": "2019-10-27T18:00:06.534670Z"
    }
   },
   "outputs": [],
   "source": [
    "\"\"\"make sure only one word before the ingredients\n",
    "   split by the space and the output is limited to one list(parameter 1), drop the first element\n",
    "   replace 'space + and' by ','\n",
    "\"\"\"\n",
    "Ingredients = df.infos\\\n",
    "    .str.replace('May contain', 'Contains')\\\n",
    "    .str.split(' ', 1).str[1]\\\n",
    "    .str.replace(' and', ',')\\\n",
    "    .str.get_dummies(sep = ', ')"
   ]
  },
  {
   "cell_type": "code",
   "execution_count": 15,
   "metadata": {
    "ExecuteTime": {
     "end_time": "2019-10-27T18:00:06.548741Z",
     "start_time": "2019-10-27T18:00:06.544791Z"
    }
   },
   "outputs": [],
   "source": [
    "# concat the dummies matix with initial df\n",
    "result = pd.concat([df, Ingredients], axis=1)"
   ]
  },
  {
   "cell_type": "code",
   "execution_count": 16,
   "metadata": {
    "ExecuteTime": {
     "end_time": "2019-10-27T18:00:06.564650Z",
     "start_time": "2019-10-27T18:00:06.550126Z"
    }
   },
   "outputs": [
    {
     "data": {
      "text/html": [
       "<div>\n",
       "<style scoped>\n",
       "    .dataframe tbody tr th:only-of-type {\n",
       "        vertical-align: middle;\n",
       "    }\n",
       "\n",
       "    .dataframe tbody tr th {\n",
       "        vertical-align: top;\n",
       "    }\n",
       "\n",
       "    .dataframe thead th {\n",
       "        text-align: right;\n",
       "    }\n",
       "</style>\n",
       "<table border=\"1\" class=\"dataframe\">\n",
       "  <thead>\n",
       "    <tr style=\"text-align: right;\">\n",
       "      <th></th>\n",
       "      <th>index</th>\n",
       "      <th>username</th>\n",
       "      <th>ip_address</th>\n",
       "      <th>product</th>\n",
       "      <th>price</th>\n",
       "      <th>infos</th>\n",
       "      <th>country_code</th>\n",
       "      <th>currency</th>\n",
       "      <th>currency_guessed</th>\n",
       "      <th>price_euro_precise</th>\n",
       "      <th>price_euro</th>\n",
       "      <th>egg</th>\n",
       "      <th>fish</th>\n",
       "      <th>gluten</th>\n",
       "      <th>milk</th>\n",
       "      <th>mustard</th>\n",
       "      <th>peanut</th>\n",
       "      <th>soja</th>\n",
       "      <th>sugar</th>\n",
       "    </tr>\n",
       "  </thead>\n",
       "  <tbody>\n",
       "    <tr>\n",
       "      <td>0</td>\n",
       "      <td>4</td>\n",
       "      <td>mbuckney4</td>\n",
       "      <td>58.90.204.239</td>\n",
       "      <td>Radish - Pickled</td>\n",
       "      <td>949.79</td>\n",
       "      <td>May contain sugar, egg and fish</td>\n",
       "      <td>JP</td>\n",
       "      <td>JPY</td>\n",
       "      <td>JPY</td>\n",
       "      <td>7.876192</td>\n",
       "      <td>7.9</td>\n",
       "      <td>1</td>\n",
       "      <td>1</td>\n",
       "      <td>0</td>\n",
       "      <td>0</td>\n",
       "      <td>0</td>\n",
       "      <td>0</td>\n",
       "      <td>0</td>\n",
       "      <td>1</td>\n",
       "    </tr>\n",
       "    <tr>\n",
       "      <td>1</td>\n",
       "      <td>5</td>\n",
       "      <td>bsnozzwell5</td>\n",
       "      <td>226.52.32.70</td>\n",
       "      <td>Oil - Sesame</td>\n",
       "      <td>354.33</td>\n",
       "      <td>Ingredients: sugar and milk</td>\n",
       "      <td>None</td>\n",
       "      <td>MGA</td>\n",
       "      <td>None</td>\n",
       "      <td>NaN</td>\n",
       "      <td>NaN</td>\n",
       "      <td>0</td>\n",
       "      <td>0</td>\n",
       "      <td>0</td>\n",
       "      <td>1</td>\n",
       "      <td>0</td>\n",
       "      <td>0</td>\n",
       "      <td>0</td>\n",
       "      <td>1</td>\n",
       "    </tr>\n",
       "    <tr>\n",
       "      <td>2</td>\n",
       "      <td>7</td>\n",
       "      <td>avowdon7</td>\n",
       "      <td>189.169.17.54</td>\n",
       "      <td>Dc Hikiage Hira Huba</td>\n",
       "      <td>111.56</td>\n",
       "      <td>Contains sugar</td>\n",
       "      <td>MX</td>\n",
       "      <td>MXN</td>\n",
       "      <td>MXN</td>\n",
       "      <td>5.261768</td>\n",
       "      <td>5.3</td>\n",
       "      <td>0</td>\n",
       "      <td>0</td>\n",
       "      <td>0</td>\n",
       "      <td>0</td>\n",
       "      <td>0</td>\n",
       "      <td>0</td>\n",
       "      <td>0</td>\n",
       "      <td>1</td>\n",
       "    </tr>\n",
       "    <tr>\n",
       "      <td>3</td>\n",
       "      <td>8</td>\n",
       "      <td>epridham8</td>\n",
       "      <td>187.129.113.105</td>\n",
       "      <td>Dried Figs</td>\n",
       "      <td>88.05</td>\n",
       "      <td>Ingredients: sugar, milk and fish</td>\n",
       "      <td>MX</td>\n",
       "      <td>MXN</td>\n",
       "      <td>MXN</td>\n",
       "      <td>4.152910</td>\n",
       "      <td>4.2</td>\n",
       "      <td>0</td>\n",
       "      <td>1</td>\n",
       "      <td>0</td>\n",
       "      <td>1</td>\n",
       "      <td>0</td>\n",
       "      <td>0</td>\n",
       "      <td>0</td>\n",
       "      <td>1</td>\n",
       "    </tr>\n",
       "    <tr>\n",
       "      <td>4</td>\n",
       "      <td>10</td>\n",
       "      <td>cjagielaa</td>\n",
       "      <td>75.254.207.163</td>\n",
       "      <td>Cinnamon Rolls</td>\n",
       "      <td>966.34</td>\n",
       "      <td>Contains peanut, sugar, egg and fish</td>\n",
       "      <td>US</td>\n",
       "      <td>USD</td>\n",
       "      <td>USD</td>\n",
       "      <td>870.027910</td>\n",
       "      <td>870.0</td>\n",
       "      <td>1</td>\n",
       "      <td>1</td>\n",
       "      <td>0</td>\n",
       "      <td>0</td>\n",
       "      <td>0</td>\n",
       "      <td>1</td>\n",
       "      <td>0</td>\n",
       "      <td>1</td>\n",
       "    </tr>\n",
       "  </tbody>\n",
       "</table>\n",
       "</div>"
      ],
      "text/plain": [
       "   index     username       ip_address               product   price  \\\n",
       "0      4    mbuckney4    58.90.204.239      Radish - Pickled  949.79   \n",
       "1      5  bsnozzwell5     226.52.32.70          Oil - Sesame  354.33   \n",
       "2      7     avowdon7    189.169.17.54  Dc Hikiage Hira Huba  111.56   \n",
       "3      8    epridham8  187.129.113.105            Dried Figs   88.05   \n",
       "4     10    cjagielaa   75.254.207.163        Cinnamon Rolls  966.34   \n",
       "\n",
       "                                  infos country_code currency  \\\n",
       "0       May contain sugar, egg and fish           JP      JPY   \n",
       "1           Ingredients: sugar and milk         None      MGA   \n",
       "2                        Contains sugar           MX      MXN   \n",
       "3     Ingredients: sugar, milk and fish           MX      MXN   \n",
       "4  Contains peanut, sugar, egg and fish           US      USD   \n",
       "\n",
       "  currency_guessed  price_euro_precise  price_euro  egg  fish  gluten  milk  \\\n",
       "0              JPY            7.876192         7.9    1     1       0     0   \n",
       "1             None                 NaN         NaN    0     0       0     1   \n",
       "2              MXN            5.261768         5.3    0     0       0     0   \n",
       "3              MXN            4.152910         4.2    0     1       0     1   \n",
       "4              USD          870.027910       870.0    1     1       0     0   \n",
       "\n",
       "   mustard  peanut  soja  sugar  \n",
       "0        0       0     0      1  \n",
       "1        0       0     0      1  \n",
       "2        0       0     0      1  \n",
       "3        0       0     0      1  \n",
       "4        0       1     0      1  "
      ]
     },
     "execution_count": 16,
     "metadata": {},
     "output_type": "execute_result"
    }
   ],
   "source": [
    "result.head()"
   ]
  }
 ],
 "metadata": {
  "kernelspec": {
   "display_name": "Python 3",
   "language": "python",
   "name": "python3"
  },
  "language_info": {
   "codemirror_mode": {
    "name": "ipython",
    "version": 3
   },
   "file_extension": ".py",
   "mimetype": "text/x-python",
   "name": "python",
   "nbconvert_exporter": "python",
   "pygments_lexer": "ipython3",
   "version": "3.7.3"
  },
  "toc": {
   "base_numbering": 1,
   "nav_menu": {},
   "number_sections": false,
   "sideBar": true,
   "skip_h1_title": false,
   "title_cell": "Table of Contents",
   "title_sidebar": "Contents",
   "toc_cell": false,
   "toc_position": {},
   "toc_section_display": true,
   "toc_window_display": false
  },
  "varInspector": {
   "cols": {
    "lenName": 16,
    "lenType": 16,
    "lenVar": 40
   },
   "kernels_config": {
    "python": {
     "delete_cmd_postfix": "",
     "delete_cmd_prefix": "del ",
     "library": "var_list.py",
     "varRefreshCmd": "print(var_dic_list())"
    },
    "r": {
     "delete_cmd_postfix": ") ",
     "delete_cmd_prefix": "rm(",
     "library": "var_list.r",
     "varRefreshCmd": "cat(var_dic_list()) "
    }
   },
   "types_to_exclude": [
    "module",
    "function",
    "builtin_function_or_method",
    "instance",
    "_Feature"
   ],
   "window_display": false
  }
 },
 "nbformat": 4,
 "nbformat_minor": 2
}
